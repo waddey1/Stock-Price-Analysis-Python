{
 "cells": [
  {
   "cell_type": "code",
   "execution_count": 15,
   "id": "2f53da77-fb10-4820-99a0-16c173dd7e7a",
   "metadata": {},
   "outputs": [],
   "source": [
    "#Importing both pandas and NumPy libraires\n",
    "\n",
    "import pandas as pd\n",
    "import numpy as np"
   ]
  },
  {
   "cell_type": "code",
   "execution_count": 25,
   "id": "42bd11e6-1851-4cd1-8914-d84e1b7f866e",
   "metadata": {},
   "outputs": [
    {
     "name": "stdout",
     "output_type": "stream",
     "text": [
      "         date     MSFT     AAPL      GOOGL\n",
      "0  2010-01-29  28.1800  192.063  529.94397\n",
      "1  2010-02-26  28.6700  204.620  526.79999\n",
      "2  2010-03-31  29.2875  235.000  567.12000\n",
      "3  2010-04-30  30.5350  261.090  525.69501\n",
      "4  2010-05-28  25.8000  256.880  485.63000\n",
      "           date       MSFT       AAPL   GOOGL\n",
      "151  2022-08-31  261.47000  157.22000  108.22\n",
      "152  2022-09-30  232.89999  138.20000   95.65\n",
      "153  2022-10-31  232.13000  153.34000   94.51\n",
      "154  2022-11-30  255.14000  148.03000  100.99\n",
      "155  2022-12-30  239.82001  129.92999   88.23\n"
     ]
    }
   ],
   "source": [
    "#Loading the stock price data csv file - I have put double back slashes as Python interprets the single \\ as escape char\n",
    "#df.head(5) has been used to see the first 5 lines of the data to see if it formats correctly without excessive rows\n",
    "#put r in front of file paths to tell python.\n",
    "#index_col=0 removes initial 1,2,3,4 index and shifts it to the right.\n",
    "\n",
    "\n",
    "df = pd.read_csv('C:\\\\Users\\\\dajam\\\\Downloads\\\\stock_prices.csv')\n",
    "print(df.head(5))\n",
    "print(df.tail(5))"
   ]
  },
  {
   "cell_type": "code",
   "execution_count": null,
   "id": "536c18c7-fa19-4a7d-93e2-e7c86964b1d2",
   "metadata": {},
   "outputs": [],
   "source": [
    "# you can slice the data by column and by row by\n",
    "#select columns called 'points' and 'blocks'\n",
    "#df_new = df[['MSFT', 'AAPL']]\n",
    "\n",
    "#view new DataFrame\n",
    "#df_new"
   ]
  },
  {
   "cell_type": "code",
   "execution_count": 27,
   "id": "c1562091-1ed9-4104-8c93-83d3886b40c6",
   "metadata": {},
   "outputs": [
    {
     "name": "stdout",
     "output_type": "stream",
     "text": [
      "MSFT - Mean: 100.79012634615384 Std Dev: 89.02990387970237 Skewness: 1.1691426639643632 Kurtosis: 0.06300369636440895\n",
      "AAPL - Mean: 252.92664378205131 Std Dev: 158.24468683156442 Skewness: 1.0589688588805324 Kurtosis: -0.10739147449160313\n",
      "GOOGL - Mean: 1022.7163630128206 Std Dev: 633.2359901838887 Skewness: 1.4930139968675056 Kurtosis: 1.8569612636668658\n"
     ]
    }
   ],
   "source": [
    "#Assigning value of \"mean_'stock'\" in the dataframe df, finding coloumn of the specific ['STOCK'] and calculating mean.\n",
    "mean_msft = df['MSFT'].mean()\n",
    "mean_aapl = df['AAPL'].mean()\n",
    "mean_googl = df['GOOGL'].mean()\n",
    "\n",
    "#Likewise with standard deviation function\n",
    "std_msft = df['MSFT'].std()\n",
    "std_aapl = df['AAPL'].std()\n",
    "std_googl = df['GOOGL'].std()\n",
    "\n",
    "#and Skewness function\n",
    "skew_msft = df['MSFT'].skew()\n",
    "skew_aapl = df['AAPL'].skew()\n",
    "skew_googl = df['GOOGL'].skew()\n",
    "\n",
    "#Kurtosis function\n",
    "kurt_msft = df['MSFT'].kurt()\n",
    "kurt_aapl = df['AAPL'].kurt()\n",
    "kurt_googl = df['GOOGL'].kurt()\n",
    "\n",
    "#Display the results\n",
    "print(\"MSFT - Mean:\", mean_msft, \"Std Dev:\", std_msft, \"Skewness:\", skew_msft, \"Kurtosis:\", kurt_msft)\n",
    "print(\"AAPL - Mean:\", mean_aapl, \"Std Dev:\", std_aapl, \"Skewness:\", skew_aapl, \"Kurtosis:\", kurt_aapl)\n",
    "print(\"GOOGL - Mean:\", mean_googl, \"Std Dev:\", std_googl, \"Skewness:\", skew_googl, \"Kurtosis:\", kurt_googl)"
   ]
  },
  {
   "cell_type": "code",
   "execution_count": 62,
   "id": "3bd017f6-798c-4986-933f-8041ea16ee33",
   "metadata": {},
   "outputs": [
    {
     "data": {
      "text/html": [
       "<div>\n",
       "<style scoped>\n",
       "    .dataframe tbody tr th:only-of-type {\n",
       "        vertical-align: middle;\n",
       "    }\n",
       "\n",
       "    .dataframe tbody tr th {\n",
       "        vertical-align: top;\n",
       "    }\n",
       "\n",
       "    .dataframe thead th {\n",
       "        text-align: right;\n",
       "    }\n",
       "</style>\n",
       "<table border=\"1\" class=\"dataframe\">\n",
       "  <thead>\n",
       "    <tr style=\"text-align: right;\">\n",
       "      <th></th>\n",
       "      <th>MSFT</th>\n",
       "      <th>AAPL</th>\n",
       "      <th>GOOGL</th>\n",
       "    </tr>\n",
       "  </thead>\n",
       "  <tbody>\n",
       "    <tr>\n",
       "      <th>count</th>\n",
       "      <td>156.000000</td>\n",
       "      <td>156.000000</td>\n",
       "      <td>156.000000</td>\n",
       "    </tr>\n",
       "    <tr>\n",
       "      <th>mean</th>\n",
       "      <td>100.790126</td>\n",
       "      <td>252.926644</td>\n",
       "      <td>1022.716363</td>\n",
       "    </tr>\n",
       "    <tr>\n",
       "      <th>std</th>\n",
       "      <td>89.029904</td>\n",
       "      <td>158.244687</td>\n",
       "      <td>633.235990</td>\n",
       "    </tr>\n",
       "    <tr>\n",
       "      <th>min</th>\n",
       "      <td>23.010000</td>\n",
       "      <td>92.930000</td>\n",
       "      <td>88.230000</td>\n",
       "    </tr>\n",
       "    <tr>\n",
       "      <th>25%</th>\n",
       "      <td>32.195000</td>\n",
       "      <td>130.192498</td>\n",
       "      <td>587.997480</td>\n",
       "    </tr>\n",
       "    <tr>\n",
       "      <th>50%</th>\n",
       "      <td>56.080000</td>\n",
       "      <td>176.320010</td>\n",
       "      <td>815.045010</td>\n",
       "    </tr>\n",
       "    <tr>\n",
       "      <th>75%</th>\n",
       "      <td>140.115000</td>\n",
       "      <td>348.913133</td>\n",
       "      <td>1192.637512</td>\n",
       "    </tr>\n",
       "    <tr>\n",
       "      <th>max</th>\n",
       "      <td>336.320010</td>\n",
       "      <td>667.104980</td>\n",
       "      <td>2960.919920</td>\n",
       "    </tr>\n",
       "  </tbody>\n",
       "</table>\n",
       "</div>"
      ],
      "text/plain": [
       "             MSFT        AAPL        GOOGL\n",
       "count  156.000000  156.000000   156.000000\n",
       "mean   100.790126  252.926644  1022.716363\n",
       "std     89.029904  158.244687   633.235990\n",
       "min     23.010000   92.930000    88.230000\n",
       "25%     32.195000  130.192498   587.997480\n",
       "50%     56.080000  176.320010   815.045010\n",
       "75%    140.115000  348.913133  1192.637512\n",
       "max    336.320010  667.104980  2960.919920"
      ]
     },
     "execution_count": 62,
     "metadata": {},
     "output_type": "execute_result"
    }
   ],
   "source": [
    "df.describe() # This gives a summary statistics of everything below"
   ]
  },
  {
   "cell_type": "code",
   "execution_count": null,
   "id": "c491b45d-d6f1-47cc-970d-db1db29ec9a4",
   "metadata": {},
   "outputs": [],
   "source": [
    "# prior to reading below you can use data.describe() to format the table in a more presentable manner."
   ]
  },
  {
   "cell_type": "code",
   "execution_count": 33,
   "id": "0bcc42e8-a959-48f0-9fd8-4f95713abcbd",
   "metadata": {},
   "outputs": [
    {
     "name": "stdout",
     "output_type": "stream",
     "text": [
      "Stock        Mean  Standard Deviation  Skewness  Kurtosis\n",
      " MSFT  100.790126           89.029904  1.169143  0.063004\n",
      " AAPL  252.926644          158.244687  1.058969 -0.107391\n",
      "GOOGL 1022.716363          633.235990  1.493014  1.856961\n"
     ]
    }
   ],
   "source": [
    "#Creating a summary DataFrame for the results\n",
    "summary = pd.DataFrame({\n",
    "    'Stock': ['MSFT', 'AAPL', 'GOOGL'],\n",
    "    'Mean': [mean_msft, mean_aapl, mean_googl],\n",
    "    'Standard Deviation': [std_msft, std_aapl, std_googl],\n",
    "    'Skewness': [skew_msft, skew_aapl, skew_googl],\n",
    "    'Kurtosis': [kurt_msft, kurt_aapl, kurt_googl]\n",
    "})\n",
    "\n",
    "#Displaying the summary DataFrame without the index\n",
    "print(summary.to_string(index=False))"
   ]
  },
  {
   "cell_type": "code",
   "execution_count": null,
   "id": "594dc00a-9819-41ad-a1d8-2ddfba752dfb",
   "metadata": {},
   "outputs": [],
   "source": []
  },
  {
   "cell_type": "code",
   "execution_count": null,
   "id": "f5dd091c-e127-48d6-81f4-cdbc5c424070",
   "metadata": {},
   "outputs": [],
   "source": [
    "#log return (ln) = (current price / original price)"
   ]
  },
  {
   "cell_type": "code",
   "execution_count": 41,
   "id": "e12bdd76-d22b-4ebf-9f8e-81a7153f36f3",
   "metadata": {},
   "outputs": [],
   "source": [
    "def LogDiff(x):\n",
    "    x_diff = 100*np.log(x/x.shift(1)) # we take the original series and divide by the previous one.\n",
    "    x_diff = x_diff.dropna() # To avoid errors we include all the data as it will miss the first value in the row off otherwise\n",
    "    return x_diff"
   ]
  },
  {
   "cell_type": "code",
   "execution_count": null,
   "id": "1f1890a2-5322-4392-ab28-49b1bb15ad34",
   "metadata": {},
   "outputs": [],
   "source": [
    "LogDiff(df['MSFT'])"
   ]
  },
  {
   "cell_type": "code",
   "execution_count": 58,
   "id": "df25ef34-11ec-4f33-841a-cca3f6218b15",
   "metadata": {},
   "outputs": [],
   "source": [
    "df2 = pd.DataFrame({'ret_msft' : LogDiff(df['MSFT']),\n",
    "                    'ret_aapl' : LogDiff(df['AAPL']),\n",
    "                    'ret_google' : LogDiff(df['GOOGL'])})"
   ]
  },
  {
   "cell_type": "code",
   "execution_count": 64,
   "id": "719f6271-9a1a-4cf6-ad55-43b607aa956a",
   "metadata": {},
   "outputs": [
    {
     "data": {
      "text/html": [
       "<div>\n",
       "<style scoped>\n",
       "    .dataframe tbody tr th:only-of-type {\n",
       "        vertical-align: middle;\n",
       "    }\n",
       "\n",
       "    .dataframe tbody tr th {\n",
       "        vertical-align: top;\n",
       "    }\n",
       "\n",
       "    .dataframe thead th {\n",
       "        text-align: right;\n",
       "    }\n",
       "</style>\n",
       "<table border=\"1\" class=\"dataframe\">\n",
       "  <thead>\n",
       "    <tr style=\"text-align: right;\">\n",
       "      <th></th>\n",
       "      <th>ret_msft</th>\n",
       "      <th>ret_aapl</th>\n",
       "      <th>ret_google</th>\n",
       "    </tr>\n",
       "  </thead>\n",
       "  <tbody>\n",
       "    <tr>\n",
       "      <th>1</th>\n",
       "      <td>1.723877</td>\n",
       "      <td>6.333116</td>\n",
       "      <td>-0.595033</td>\n",
       "    </tr>\n",
       "    <tr>\n",
       "      <th>2</th>\n",
       "      <td>2.130952</td>\n",
       "      <td>13.843091</td>\n",
       "      <td>7.374997</td>\n",
       "    </tr>\n",
       "    <tr>\n",
       "      <th>3</th>\n",
       "      <td>4.171276</td>\n",
       "      <td>10.527966</td>\n",
       "      <td>-7.584971</td>\n",
       "    </tr>\n",
       "    <tr>\n",
       "      <th>4</th>\n",
       "      <td>-16.849907</td>\n",
       "      <td>-1.625613</td>\n",
       "      <td>-7.927420</td>\n",
       "    </tr>\n",
       "    <tr>\n",
       "      <th>5</th>\n",
       "      <td>-11.444559</td>\n",
       "      <td>-2.104678</td>\n",
       "      <td>-8.748508</td>\n",
       "    </tr>\n",
       "    <tr>\n",
       "      <th>...</th>\n",
       "      <td>...</td>\n",
       "      <td>...</td>\n",
       "      <td>...</td>\n",
       "    </tr>\n",
       "    <tr>\n",
       "      <th>151</th>\n",
       "      <td>-7.110938</td>\n",
       "      <td>-3.309338</td>\n",
       "      <td>-7.217882</td>\n",
       "    </tr>\n",
       "    <tr>\n",
       "      <th>152</th>\n",
       "      <td>-11.571042</td>\n",
       "      <td>-12.894419</td>\n",
       "      <td>-12.347050</td>\n",
       "    </tr>\n",
       "    <tr>\n",
       "      <th>153</th>\n",
       "      <td>-0.331157</td>\n",
       "      <td>10.395577</td>\n",
       "      <td>-1.199005</td>\n",
       "    </tr>\n",
       "    <tr>\n",
       "      <th>154</th>\n",
       "      <td>9.451485</td>\n",
       "      <td>-3.524272</td>\n",
       "      <td>6.631585</td>\n",
       "    </tr>\n",
       "    <tr>\n",
       "      <th>155</th>\n",
       "      <td>-6.192373</td>\n",
       "      <td>-13.041919</td>\n",
       "      <td>-13.507446</td>\n",
       "    </tr>\n",
       "  </tbody>\n",
       "</table>\n",
       "<p>155 rows × 3 columns</p>\n",
       "</div>"
      ],
      "text/plain": [
       "      ret_msft   ret_aapl  ret_google\n",
       "1     1.723877   6.333116   -0.595033\n",
       "2     2.130952  13.843091    7.374997\n",
       "3     4.171276  10.527966   -7.584971\n",
       "4   -16.849907  -1.625613   -7.927420\n",
       "5   -11.444559  -2.104678   -8.748508\n",
       "..         ...        ...         ...\n",
       "151  -7.110938  -3.309338   -7.217882\n",
       "152 -11.571042 -12.894419  -12.347050\n",
       "153  -0.331157  10.395577   -1.199005\n",
       "154   9.451485  -3.524272    6.631585\n",
       "155  -6.192373 -13.041919  -13.507446\n",
       "\n",
       "[155 rows x 3 columns]"
      ]
     },
     "execution_count": 64,
     "metadata": {},
     "output_type": "execute_result"
    }
   ],
   "source": [
    "df2"
   ]
  },
  {
   "cell_type": "code",
   "execution_count": 66,
   "id": "dca40193-e272-4b23-9a9a-73e126905058",
   "metadata": {},
   "outputs": [
    {
     "data": {
      "text/html": [
       "<div>\n",
       "<style scoped>\n",
       "    .dataframe tbody tr th:only-of-type {\n",
       "        vertical-align: middle;\n",
       "    }\n",
       "\n",
       "    .dataframe tbody tr th {\n",
       "        vertical-align: top;\n",
       "    }\n",
       "\n",
       "    .dataframe thead th {\n",
       "        text-align: right;\n",
       "    }\n",
       "</style>\n",
       "<table border=\"1\" class=\"dataframe\">\n",
       "  <thead>\n",
       "    <tr style=\"text-align: right;\">\n",
       "      <th></th>\n",
       "      <th>ret_msft</th>\n",
       "      <th>ret_aapl</th>\n",
       "      <th>ret_google</th>\n",
       "    </tr>\n",
       "  </thead>\n",
       "  <tbody>\n",
       "    <tr>\n",
       "      <th>count</th>\n",
       "      <td>155.000000</td>\n",
       "      <td>155.000000</td>\n",
       "      <td>155.000000</td>\n",
       "    </tr>\n",
       "    <tr>\n",
       "      <th>mean</th>\n",
       "      <td>1.381469</td>\n",
       "      <td>-0.252147</td>\n",
       "      <td>-1.156661</td>\n",
       "    </tr>\n",
       "    <tr>\n",
       "      <th>std</th>\n",
       "      <td>6.209837</td>\n",
       "      <td>19.852071</td>\n",
       "      <td>25.308918</td>\n",
       "    </tr>\n",
       "    <tr>\n",
       "      <th>min</th>\n",
       "      <td>-16.849907</td>\n",
       "      <td>-191.862390</td>\n",
       "      <td>-293.039564</td>\n",
       "    </tr>\n",
       "    <tr>\n",
       "      <th>25%</th>\n",
       "      <td>-2.794059</td>\n",
       "      <td>-3.248386</td>\n",
       "      <td>-3.800106</td>\n",
       "    </tr>\n",
       "    <tr>\n",
       "      <th>50%</th>\n",
       "      <td>1.718418</td>\n",
       "      <td>1.797395</td>\n",
       "      <td>1.281896</td>\n",
       "    </tr>\n",
       "    <tr>\n",
       "      <th>75%</th>\n",
       "      <td>5.270001</td>\n",
       "      <td>7.164948</td>\n",
       "      <td>5.880842</td>\n",
       "    </tr>\n",
       "    <tr>\n",
       "      <th>max</th>\n",
       "      <td>17.932441</td>\n",
       "      <td>17.917233</td>\n",
       "      <td>19.680159</td>\n",
       "    </tr>\n",
       "  </tbody>\n",
       "</table>\n",
       "</div>"
      ],
      "text/plain": [
       "         ret_msft    ret_aapl  ret_google\n",
       "count  155.000000  155.000000  155.000000\n",
       "mean     1.381469   -0.252147   -1.156661\n",
       "std      6.209837   19.852071   25.308918\n",
       "min    -16.849907 -191.862390 -293.039564\n",
       "25%     -2.794059   -3.248386   -3.800106\n",
       "50%      1.718418    1.797395    1.281896\n",
       "75%      5.270001    7.164948    5.880842\n",
       "max     17.932441   17.917233   19.680159"
      ]
     },
     "execution_count": 66,
     "metadata": {},
     "output_type": "execute_result"
    }
   ],
   "source": [
    "df2.describe() # This gives a summary statistics of the returns table above detailed everything below"
   ]
  },
  {
   "cell_type": "code",
   "execution_count": 68,
   "id": "9db4e038-e9e9-4fdd-a3e6-8966cbebaf49",
   "metadata": {},
   "outputs": [
    {
     "data": {
      "text/html": [
       "<div>\n",
       "<style scoped>\n",
       "    .dataframe tbody tr th:only-of-type {\n",
       "        vertical-align: middle;\n",
       "    }\n",
       "\n",
       "    .dataframe tbody tr th {\n",
       "        vertical-align: top;\n",
       "    }\n",
       "\n",
       "    .dataframe thead th {\n",
       "        text-align: right;\n",
       "    }\n",
       "</style>\n",
       "<table border=\"1\" class=\"dataframe\">\n",
       "  <thead>\n",
       "    <tr style=\"text-align: right;\">\n",
       "      <th></th>\n",
       "      <th>ret_msft</th>\n",
       "      <th>ret_aapl</th>\n",
       "      <th>ret_google</th>\n",
       "    </tr>\n",
       "  </thead>\n",
       "  <tbody>\n",
       "    <tr>\n",
       "      <th>ret_msft</th>\n",
       "      <td>1.000000</td>\n",
       "      <td>0.136837</td>\n",
       "      <td>0.074545</td>\n",
       "    </tr>\n",
       "    <tr>\n",
       "      <th>ret_aapl</th>\n",
       "      <td>0.136837</td>\n",
       "      <td>1.000000</td>\n",
       "      <td>-0.045508</td>\n",
       "    </tr>\n",
       "    <tr>\n",
       "      <th>ret_google</th>\n",
       "      <td>0.074545</td>\n",
       "      <td>-0.045508</td>\n",
       "      <td>1.000000</td>\n",
       "    </tr>\n",
       "  </tbody>\n",
       "</table>\n",
       "</div>"
      ],
      "text/plain": [
       "            ret_msft  ret_aapl  ret_google\n",
       "ret_msft    1.000000  0.136837    0.074545\n",
       "ret_aapl    0.136837  1.000000   -0.045508\n",
       "ret_google  0.074545 -0.045508    1.000000"
      ]
     },
     "execution_count": 68,
     "metadata": {},
     "output_type": "execute_result"
    }
   ],
   "source": [
    "df2.corr() # computes the correlations between the different returns - lOOK INTO .corr()"
   ]
  },
  {
   "cell_type": "code",
   "execution_count": null,
   "id": "c43e3677-bdd7-4974-bdb4-dd36c37f6699",
   "metadata": {},
   "outputs": [],
   "source": [
    "#Looping the process so you dont have to type out multiple print lines "
   ]
  },
  {
   "cell_type": "code",
   "execution_count": 74,
   "id": "b74f568b-5d01-4ab3-adc9-c700c5009c2a",
   "metadata": {},
   "outputs": [
    {
     "name": "stdout",
     "output_type": "stream",
     "text": [
      "Average return for ret_msft: 1.3814685014056083\n",
      "Average return for ret_aapl: -0.25214688792027423\n",
      "Average return for ret_google: -1.1566608017694113\n"
     ]
    }
   ],
   "source": [
    "#Calculating the average return for each stock using a loop.\n",
    "#define a list called stocks tht contrains the name sof the stocks we want to calculate the average return for.\n",
    "\n",
    "stocks = ['ret_msft', 'ret_aapl', 'ret_google']\n",
    "\n",
    "#now to loop through the stocks using standard loop functions assigning single \"stock\" in \"stocks\"\n",
    "\n",
    "for stock in stocks:\n",
    "    stock_data = df2[stock]\n",
    "\n",
    "    #Calculating the average returns\n",
    "\n",
    "    total_return = sum(stock_data)\n",
    "    average_return = stock_data.mean() #you can use total_return / len(stock_data) to also calculate mean.\n",
    "\n",
    "    #Using string formatting to present the results\n",
    "    print(f'Average return for {stock}: {average_return}')"
   ]
  },
  {
   "cell_type": "code",
   "execution_count": null,
   "id": "fce8e7a9-e5f3-4b8a-8305-3fb774e6c2d6",
   "metadata": {},
   "outputs": [],
   "source": [
    "#f shows python that you are string formatiing. (f'string {value} : {another value}')"
   ]
  }
 ],
 "metadata": {
  "kernelspec": {
   "display_name": "Python 3 (ipykernel)",
   "language": "python",
   "name": "python3"
  },
  "language_info": {
   "codemirror_mode": {
    "name": "ipython",
    "version": 3
   },
   "file_extension": ".py",
   "mimetype": "text/x-python",
   "name": "python",
   "nbconvert_exporter": "python",
   "pygments_lexer": "ipython3",
   "version": "3.12.4"
  }
 },
 "nbformat": 4,
 "nbformat_minor": 5
}
